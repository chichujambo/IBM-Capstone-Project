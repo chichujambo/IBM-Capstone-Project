{
 "cells": [
  {
   "cell_type": "markdown",
   "metadata": {},
   "source": [
    "# Title: Where to open my restaurant and what type of food by using data analytics.\n"
   ]
  },
  {
   "cell_type": "markdown",
   "metadata": {},
   "source": [
    "## Background"
   ]
  },
  {
   "cell_type": "markdown",
   "metadata": {},
   "source": [
    "I have seen so many “foodies” nowadays in the streets, Instagram, etc. I even consider myself a foodie. I just LOVE food. I have realized that food industry are on fire in the last decade, especially restaurants, they are popping up everywhere. I think our culture has never been as open as now. People are excited to try new flavors and culinary experiences that in the past they never thought about. Just look at how many fusion restaurants are out there and the numbers are increasing rapidly. Which includes traditional restaurants getting into it as well. "
   ]
  },
  {
   "cell_type": "markdown",
   "metadata": {},
   "source": [
    "## Proposal"
   ]
  },
  {
   "cell_type": "markdown",
   "metadata": {},
   "source": [
    "I would like to open my own restaurant but I am not sure what cuisine exactly and where? I will respective relevant data in Spain, specifically in the city of Madrid, Barcelona and Mazarron (target location) in order to find out what type of cuisine are top and at what location. Things that will be considered are:\n",
    "-\tNumber of reviews\n",
    "-\tRating\n",
    "-\tAverage price/person\n",
    "-\tLocation/Area and type of cuisine. "
   ]
  },
  {
   "cell_type": "markdown",
   "metadata": {},
   "source": [
    "## My theory behind this analysis\n"
   ]
  },
  {
   "cell_type": "markdown",
   "metadata": {},
   "source": [
    "The goal is to finally do a comparison between Madrid and Barcelona (big cities) to find out patterns and then map it to Mazarron (target) to propose location area and type of restaurant. The reasoning behind this is that I personally believe in patterns. All animal (including humans) are “programmed” to behave certain way under certain circumstances. And every person in a certain country will behave in a certain way (called culture). So I believe that I took the 2 biggest cities and define similarities in patterns, then I can map it to a smaller cities and start implementing it. Here I can see the theory of evolution of society playing part as well, everyone is trying to have a better life and improve their skills(education, bigger house, etc.). Same thing happens to cities: small cities tend to transform into their sibling bigger ones keeping their essence. Its just time). Therefore I would like to find out these patterns from big cities and implement it in the small city(Mazarron) to follow steps for a successful restaurant. "
   ]
  },
  {
   "cell_type": "markdown",
   "metadata": {},
   "source": [
    "## Data analysis procedure:\n"
   ]
  },
  {
   "cell_type": "markdown",
   "metadata": {},
   "source": [
    "1)\tI will use Foursquare to gain the data needed on rating, # reviews, average price and location.\n",
    "\n",
    "2)\tI will clean data using the right libraries and converting them into pandas dataframe\n",
    "\n",
    "3)\tI will use Kmeans clustering to cluster restaurant types to areas in the cities mentioned. \n",
    "\n",
    "4)\tI will use folium to expose visual on map of the results and propose target location in Mazarron for potential restaurant including type of food."
   ]
  },
  {
   "cell_type": "code",
   "execution_count": null,
   "metadata": {
    "collapsed": true
   },
   "outputs": [],
   "source": []
  }
 ],
 "metadata": {
  "kernelspec": {
   "display_name": "Python 3",
   "language": "python",
   "name": "python3"
  },
  "language_info": {
   "codemirror_mode": {
    "name": "ipython",
    "version": 3
   },
   "file_extension": ".py",
   "mimetype": "text/x-python",
   "name": "python",
   "nbconvert_exporter": "python",
   "pygments_lexer": "ipython3",
   "version": "3.6.3"
  }
 },
 "nbformat": 4,
 "nbformat_minor": 2
}
